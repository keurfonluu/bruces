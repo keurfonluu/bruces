{
  "cells": [
    {
      "cell_type": "code",
      "execution_count": null,
      "metadata": {
        "collapsed": false
      },
      "outputs": [],
      "source": [
        "%matplotlib inline"
      ]
    },
    {
      "cell_type": "markdown",
      "metadata": {},
      "source": [
        "\n# Declustering of earthquake catalog\n\nThis example shows how to decluster a catalog using the method :meth:`bruces.Catalog.decluster`.\n\nThis example starts by downloading a ComCat catalog with :mod:`pycsep`.\n"
      ]
    },
    {
      "cell_type": "code",
      "execution_count": null,
      "metadata": {
        "collapsed": false
      },
      "outputs": [],
      "source": [
        "from datetime import datetime, timedelta\nimport bruces\nimport csep\nimport numpy as np\nimport matplotlib.pyplot as plt\n\n# Download catalog\nstart_time = datetime(2008, 1, 1)\nend_time = datetime(2018, 1, 1)\ncatalog = csep.query_comcat(\n    start_time=start_time,\n    end_time=end_time,\n    min_magnitude=3.0,\n    min_latitude=35.0,\n    max_latitude=37.0,\n    min_longitude=-99.5,\n    max_longitude=-96.0,\n)\n\n# Plot full catalog's seismicity rate\ncat = bruces.from_csep(catalog)\ndt = timedelta(days=30)\ntbins = np.arange(start_time, end_time, dt)\nrates, dates = cat.seismicity_rate(tbins)\n\nplt.figure()\nplt.bar(dates, rates / 12.0, width=dt, label=\"full\")\n\n# Decluster and plot declustered catalogs' seismicity rates\nalgorithms = {\n    \"reasenberg\": {},\n    \"gardner-knopoff\": {\"window\": \"uhrhammer\"},\n    \"nearest-neighbor\": {\"use_depth\": True, \"seed\": 0},\n}\nfor algorithm, kwargs in algorithms.items():\n    catd = cat.decluster(algorithm=algorithm, **kwargs)\n    rates, dates = catd.seismicity_rate(tbins)\n    plt.bar(dates, rates / 12.0, width=dt, label=algorithm)\n\nplt.xlim(start_time, end_time)\nplt.xlabel(\"Time (year)\")\nplt.ylabel(\"Number of events\")\nplt.legend(frameon=False)"
      ]
    }
  ],
  "metadata": {
    "kernelspec": {
      "display_name": "Python 3",
      "language": "python",
      "name": "python3"
    },
    "language_info": {
      "codemirror_mode": {
        "name": "ipython",
        "version": 3
      },
      "file_extension": ".py",
      "mimetype": "text/x-python",
      "name": "python",
      "nbconvert_exporter": "python",
      "pygments_lexer": "ipython3",
      "version": "3.9.15"
    }
  },
  "nbformat": 4,
  "nbformat_minor": 0
}