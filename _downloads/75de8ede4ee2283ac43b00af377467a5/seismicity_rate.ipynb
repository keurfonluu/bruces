{
  "cells": [
    {
      "cell_type": "code",
      "execution_count": null,
      "metadata": {
        "collapsed": false
      },
      "outputs": [],
      "source": [
        "%matplotlib inline"
      ]
    },
    {
      "cell_type": "markdown",
      "metadata": {},
      "source": [
        "\n# Modeling of seismicity\n\nThis example shows how to translate stressing rate to seismicity rate using the function :func:`bruces.modeling.seismicity_rate`. Modeled seismicity rate can then be used to generate a magnitude-time distribution using the function :func:`bruces.modeling.magnitude_time`.\n\nThis example starts by generating a synthetic stressing rate with an instantaneous 1000 fold increase after 2 years followed by a 10 fold decrease after another 2 years.\n\nThe free parameter $a \\sigma$ of the rate-and-state model is arbitrarily set to 0.15. Note that :func:`bruces.modeling.seismicity_rate` outputs the seismicity rate $r$ relative to the background seismicity rate $r_0$. Modeling the magnitude-time distribution requires the actual seismicity rate $r \\times r_0$. Here, we assume that $r_0$ = 1 event/year.\n"
      ]
    },
    {
      "cell_type": "code",
      "execution_count": null,
      "metadata": {
        "collapsed": false
      },
      "outputs": [],
      "source": [
        "import bruces\nimport numpy as np\nimport matplotlib.pyplot as plt\n\n# Define stressing rate\nstress_ini = 1.0e-3\ntimes = np.linspace(0.0, 10.0, 201)\nstress = np.ones(201) * stress_ini\nstress[times > 2.0] = stress_ini * 1.0e3\nstress[times > 4.0] = stress_ini * 1.0e2\n\n# Model relative seismicity rate\nrates = bruces.modeling.seismicity_rate(\n    times=times,\n    stress=stress,\n    stress_ini=stress_ini,\n    asigma=0.15,\n)\n\n# Model magnitude-time distribution\nmagnitudes = bruces.modeling.magnitude_time(\n    times=times,\n    rates=rates,\n    m_bounds=[0.0, 2.0],\n    seed=0,\n)\n\n# Plot\nfig, ax = plt.subplots(2, 1, sharex=True)\n\nax[0].semilogy(times, stress / stress_ini, label=\"Stress\")\nax[0].semilogy(times, rates, label=\"Seismicity\")\nax[0].set_ylabel(\"Rate\")\nax[0].legend(frameon=False)\n\nfor t, m in zip(times, magnitudes):\n    if len(m):\n        ax[1].scatter([t] * len(m), m, color=\"black\", alpha=0.2)\n\nax[1].set_xlabel(\"Time (year)\")\nax[1].set_ylabel(\"Magnitude\")\nax[1].set_xlim(times.min(), times.max())"
      ]
    }
  ],
  "metadata": {
    "kernelspec": {
      "display_name": "Python 3",
      "language": "python",
      "name": "python3"
    },
    "language_info": {
      "codemirror_mode": {
        "name": "ipython",
        "version": 3
      },
      "file_extension": ".py",
      "mimetype": "text/x-python",
      "name": "python",
      "nbconvert_exporter": "python",
      "pygments_lexer": "ipython3",
      "version": "3.9.15"
    }
  },
  "nbformat": 4,
  "nbformat_minor": 0
}